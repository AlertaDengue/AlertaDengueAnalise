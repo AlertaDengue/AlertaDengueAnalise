{
 "metadata": {
  "name": "",
  "signature": "sha256:321ef5bc979a261d1ff799379409877d924e1ce0bd64f67f8b0e3ce844192ba3"
 },
 "nbformat": 3,
 "nbformat_minor": 0,
 "worksheets": [
  {
   "cells": [
    {
     "cell_type": "code",
     "collapsed": false,
     "input": [
      "%pylab inline"
     ],
     "language": "python",
     "metadata": {},
     "outputs": [
      {
       "output_type": "stream",
       "stream": "stdout",
       "text": [
        "Populating the interactive namespace from numpy and matplotlib\n"
       ]
      }
     ],
     "prompt_number": 1
    },
    {
     "cell_type": "code",
     "collapsed": false,
     "input": [
      "from sklearn.cross_validation import train_test_split\n",
      "from sklearn.metrics import classification_report\n",
      "from sklearn import datasets\n",
      "from nolearn.dbn import DBN\n",
      "import numpy as np\n",
      "import pandas as pd\n",
      "#import cv2"
     ],
     "language": "python",
     "metadata": {},
     "outputs": [],
     "prompt_number": 5
    },
    {
     "cell_type": "code",
     "collapsed": false,
     "input": [
      "data = pd.read_csv(\"data_Rt_dengue_big.csv\", header=0, delimiter=',', skiprows=[1, 2, 3], parse_dates=True)\n",
      "#data"
     ],
     "language": "python",
     "metadata": {},
     "outputs": [],
     "prompt_number": 129
    },
    {
     "cell_type": "code",
     "collapsed": false,
     "input": [
      "data.describe()"
     ],
     "language": "python",
     "metadata": {},
     "outputs": [
      {
       "html": [
        "<div style=\"max-height:1000px;max-width:1500px;overflow:auto;\">\n",
        "<table border=\"1\" class=\"dataframe\">\n",
        "  <thead>\n",
        "    <tr style=\"text-align: right;\">\n",
        "      <th></th>\n",
        "      <th>SE</th>\n",
        "      <th>cases</th>\n",
        "      <th>Rt</th>\n",
        "      <th>Rt2</th>\n",
        "      <th>p1</th>\n",
        "      <th>lwr</th>\n",
        "      <th>upr</th>\n",
        "    </tr>\n",
        "  </thead>\n",
        "  <tbody>\n",
        "    <tr>\n",
        "      <th>count</th>\n",
        "      <td> 725.000000</td>\n",
        "      <td>   725.000000</td>\n",
        "      <td> 719.000000</td>\n",
        "      <td> 725.000000</td>\n",
        "      <td> 725.000000</td>\n",
        "      <td> 725.000000</td>\n",
        "      <td> 725.000000</td>\n",
        "    </tr>\n",
        "    <tr>\n",
        "      <th>mean</th>\n",
        "      <td>  26.601379</td>\n",
        "      <td>   490.706207</td>\n",
        "      <td>        inf</td>\n",
        "      <td>   1.022438</td>\n",
        "      <td>   0.502868</td>\n",
        "      <td>   0.728759</td>\n",
        "      <td>   1.502790</td>\n",
        "    </tr>\n",
        "    <tr>\n",
        "      <th>std</th>\n",
        "      <td>  14.966436</td>\n",
        "      <td>  1801.884341</td>\n",
        "      <td>        NaN</td>\n",
        "      <td>   0.357854</td>\n",
        "      <td>   0.380652</td>\n",
        "      <td>   0.348552</td>\n",
        "      <td>   0.752689</td>\n",
        "    </tr>\n",
        "    <tr>\n",
        "      <th>min</th>\n",
        "      <td>   1.000000</td>\n",
        "      <td>     0.000000</td>\n",
        "      <td>   0.000000</td>\n",
        "      <td>   0.105400</td>\n",
        "      <td>   0.000000</td>\n",
        "      <td>   0.000962</td>\n",
        "      <td>   0.175627</td>\n",
        "    </tr>\n",
        "    <tr>\n",
        "      <th>25%</th>\n",
        "      <td>  14.000000</td>\n",
        "      <td>     8.000000</td>\n",
        "      <td>   0.812500</td>\n",
        "      <td>   0.795927</td>\n",
        "      <td>   0.109375</td>\n",
        "      <td>   0.524877</td>\n",
        "      <td>   1.072413</td>\n",
        "    </tr>\n",
        "    <tr>\n",
        "      <th>50%</th>\n",
        "      <td>  27.000000</td>\n",
        "      <td>    29.000000</td>\n",
        "      <td>   1.000000</td>\n",
        "      <td>   0.978851</td>\n",
        "      <td>   0.500000</td>\n",
        "      <td>   0.686822</td>\n",
        "      <td>   1.356711</td>\n",
        "    </tr>\n",
        "    <tr>\n",
        "      <th>75%</th>\n",
        "      <td>  40.000000</td>\n",
        "      <td>   165.000000</td>\n",
        "      <td>   1.200000</td>\n",
        "      <td>   1.171858</td>\n",
        "      <td>   0.920816</td>\n",
        "      <td>   0.905358</td>\n",
        "      <td>   1.705468</td>\n",
        "    </tr>\n",
        "    <tr>\n",
        "      <th>max</th>\n",
        "      <td>  52.000000</td>\n",
        "      <td> 15620.000000</td>\n",
        "      <td>        inf</td>\n",
        "      <td>   4.013043</td>\n",
        "      <td>   1.000000</td>\n",
        "      <td>   3.264012</td>\n",
        "      <td>   8.477010</td>\n",
        "    </tr>\n",
        "  </tbody>\n",
        "</table>\n",
        "</div>"
       ],
       "metadata": {},
       "output_type": "pyout",
       "prompt_number": 130,
       "text": [
        "               SE         cases          Rt         Rt2          p1  \\\n",
        "count  725.000000    725.000000  719.000000  725.000000  725.000000   \n",
        "mean    26.601379    490.706207         inf    1.022438    0.502868   \n",
        "std     14.966436   1801.884341         NaN    0.357854    0.380652   \n",
        "min      1.000000      0.000000    0.000000    0.105400    0.000000   \n",
        "25%     14.000000      8.000000    0.812500    0.795927    0.109375   \n",
        "50%     27.000000     29.000000    1.000000    0.978851    0.500000   \n",
        "75%     40.000000    165.000000    1.200000    1.171858    0.920816   \n",
        "max     52.000000  15620.000000         inf    4.013043    1.000000   \n",
        "\n",
        "              lwr         upr  \n",
        "count  725.000000  725.000000  \n",
        "mean     0.728759    1.502790  \n",
        "std      0.348552    0.752689  \n",
        "min      0.000962    0.175627  \n",
        "25%      0.524877    1.072413  \n",
        "50%      0.686822    1.356711  \n",
        "75%      0.905358    1.705468  \n",
        "max      3.264012    8.477010  "
       ]
      }
     ],
     "prompt_number": 130
    },
    {
     "cell_type": "code",
     "collapsed": false,
     "input": [
      "target = data.cases\n",
      "target2 = target[1:]\n",
      "data2=data\n",
      "del data2['cases']\n",
      "del data2['Rt']\n",
      "del data2['start']\n",
      "del data2['end']\n",
      "data2['SE'] /=52\n",
      "data2['Rt2']/= 4.013043\n",
      "data2['p1']/= max(data2['p1'])\n",
      "data2['lwr']/= max(data2['lwr'])\n",
      "data2['upr']/= max(data2['upr'])\n",
      "data2"
     ],
     "language": "python",
     "metadata": {},
     "outputs": [
      {
       "html": [
        "<div style=\"max-height:1000px;max-width:1500px;overflow:auto;\">\n",
        "<table border=\"1\" class=\"dataframe\">\n",
        "  <thead>\n",
        "    <tr style=\"text-align: right;\">\n",
        "      <th></th>\n",
        "      <th>SE</th>\n",
        "      <th>Rt2</th>\n",
        "      <th>p1</th>\n",
        "      <th>lwr</th>\n",
        "      <th>upr</th>\n",
        "    </tr>\n",
        "  </thead>\n",
        "  <tbody>\n",
        "    <tr>\n",
        "      <th>0  </th>\n",
        "      <td> 0.076923</td>\n",
        "      <td> 0.254516</td>\n",
        "      <td> 5.720892e-01</td>\n",
        "      <td> 0.216534</td>\n",
        "      <td> 0.168612</td>\n",
        "    </tr>\n",
        "    <tr>\n",
        "      <th>1  </th>\n",
        "      <td> 0.096154</td>\n",
        "      <td> 0.242552</td>\n",
        "      <td> 4.639554e-01</td>\n",
        "      <td> 0.206582</td>\n",
        "      <td> 0.160434</td>\n",
        "    </tr>\n",
        "    <tr>\n",
        "      <th>2  </th>\n",
        "      <td> 0.115385</td>\n",
        "      <td> 0.314356</td>\n",
        "      <td> 9.262041e-01</td>\n",
        "      <td> 0.273707</td>\n",
        "      <td> 0.204791</td>\n",
        "    </tr>\n",
        "    <tr>\n",
        "      <th>3  </th>\n",
        "      <td> 0.134615</td>\n",
        "      <td> 0.328653</td>\n",
        "      <td> 9.735056e-01</td>\n",
        "      <td> 0.298960</td>\n",
        "      <td> 0.206252</td>\n",
        "    </tr>\n",
        "    <tr>\n",
        "      <th>4  </th>\n",
        "      <td> 0.153846</td>\n",
        "      <td> 0.318505</td>\n",
        "      <td> 9.744497e-01</td>\n",
        "      <td> 0.301228</td>\n",
        "      <td> 0.193092</td>\n",
        "    </tr>\n",
        "    <tr>\n",
        "      <th>5  </th>\n",
        "      <td> 0.173077</td>\n",
        "      <td> 0.293940</td>\n",
        "      <td> 9.283333e-01</td>\n",
        "      <td> 0.285626</td>\n",
        "      <td> 0.173856</td>\n",
        "    </tr>\n",
        "    <tr>\n",
        "      <th>6  </th>\n",
        "      <td> 0.192308</td>\n",
        "      <td> 0.350669</td>\n",
        "      <td> 9.996378e-01</td>\n",
        "      <td> 0.350575</td>\n",
        "      <td> 0.202332</td>\n",
        "    </tr>\n",
        "    <tr>\n",
        "      <th>7  </th>\n",
        "      <td> 0.211538</td>\n",
        "      <td> 0.380523</td>\n",
        "      <td> 9.999998e-01</td>\n",
        "      <td> 0.394519</td>\n",
        "      <td> 0.212371</td>\n",
        "    </tr>\n",
        "    <tr>\n",
        "      <th>8  </th>\n",
        "      <td> 0.230769</td>\n",
        "      <td> 0.381785</td>\n",
        "      <td> 1.000000e+00</td>\n",
        "      <td> 0.409188</td>\n",
        "      <td> 0.206541</td>\n",
        "    </tr>\n",
        "    <tr>\n",
        "      <th>9  </th>\n",
        "      <td> 0.250000</td>\n",
        "      <td> 0.455202</td>\n",
        "      <td> 1.000000e+00</td>\n",
        "      <td> 0.502970</td>\n",
        "      <td> 0.239279</td>\n",
        "    </tr>\n",
        "    <tr>\n",
        "      <th>10 </th>\n",
        "      <td> 0.269231</td>\n",
        "      <td> 0.267481</td>\n",
        "      <td> 9.458262e-01</td>\n",
        "      <td> 0.301051</td>\n",
        "      <td> 0.138059</td>\n",
        "    </tr>\n",
        "    <tr>\n",
        "      <th>11 </th>\n",
        "      <td> 0.288462</td>\n",
        "      <td> 0.298461</td>\n",
        "      <td> 9.999925e-01</td>\n",
        "      <td> 0.337726</td>\n",
        "      <td> 0.153273</td>\n",
        "    </tr>\n",
        "    <tr>\n",
        "      <th>12 </th>\n",
        "      <td> 0.307692</td>\n",
        "      <td> 0.221349</td>\n",
        "      <td> 2.096852e-03</td>\n",
        "      <td> 0.250790</td>\n",
        "      <td> 0.113506</td>\n",
        "    </tr>\n",
        "    <tr>\n",
        "      <th>13 </th>\n",
        "      <td> 0.326923</td>\n",
        "      <td> 0.258675</td>\n",
        "      <td> 8.170303e-01</td>\n",
        "      <td> 0.292632</td>\n",
        "      <td> 0.132857</td>\n",
        "    </tr>\n",
        "    <tr>\n",
        "      <th>14 </th>\n",
        "      <td> 0.346154</td>\n",
        "      <td> 0.191835</td>\n",
        "      <td> 2.110918e-09</td>\n",
        "      <td> 0.215861</td>\n",
        "      <td> 0.099006</td>\n",
        "    </tr>\n",
        "    <tr>\n",
        "      <th>15 </th>\n",
        "      <td> 0.365385</td>\n",
        "      <td> 0.177828</td>\n",
        "      <td> 3.338252e-11</td>\n",
        "      <td> 0.197155</td>\n",
        "      <td> 0.093066</td>\n",
        "    </tr>\n",
        "    <tr>\n",
        "      <th>16 </th>\n",
        "      <td> 0.384615</td>\n",
        "      <td> 0.196364</td>\n",
        "      <td> 3.369060e-05</td>\n",
        "      <td> 0.214312</td>\n",
        "      <td> 0.104305</td>\n",
        "    </tr>\n",
        "    <tr>\n",
        "      <th>17 </th>\n",
        "      <td> 0.403846</td>\n",
        "      <td> 0.212564</td>\n",
        "      <td> 8.198488e-03</td>\n",
        "      <td> 0.229172</td>\n",
        "      <td> 0.114221</td>\n",
        "    </tr>\n",
        "    <tr>\n",
        "      <th>18 </th>\n",
        "      <td> 0.423077</td>\n",
        "      <td> 0.212140</td>\n",
        "      <td> 1.246800e-02</td>\n",
        "      <td> 0.226203</td>\n",
        "      <td> 0.115166</td>\n",
        "    </tr>\n",
        "    <tr>\n",
        "      <th>19 </th>\n",
        "      <td> 0.442308</td>\n",
        "      <td> 0.188020</td>\n",
        "      <td> 2.086970e-04</td>\n",
        "      <td> 0.196984</td>\n",
        "      <td> 0.103704</td>\n",
        "    </tr>\n",
        "    <tr>\n",
        "      <th>20 </th>\n",
        "      <td> 0.461538</td>\n",
        "      <td> 0.193568</td>\n",
        "      <td> 2.850668e-03</td>\n",
        "      <td> 0.198186</td>\n",
        "      <td> 0.109023</td>\n",
        "    </tr>\n",
        "    <tr>\n",
        "      <th>21 </th>\n",
        "      <td> 0.480769</td>\n",
        "      <td> 0.196327</td>\n",
        "      <td> 1.059532e-02</td>\n",
        "      <td> 0.196217</td>\n",
        "      <td> 0.113000</td>\n",
        "    </tr>\n",
        "    <tr>\n",
        "      <th>22 </th>\n",
        "      <td> 0.500000</td>\n",
        "      <td> 0.192604</td>\n",
        "      <td> 1.390507e-02</td>\n",
        "      <td> 0.187184</td>\n",
        "      <td> 0.113616</td>\n",
        "    </tr>\n",
        "    <tr>\n",
        "      <th>23 </th>\n",
        "      <td> 0.519231</td>\n",
        "      <td> 0.165066</td>\n",
        "      <td> 1.367122e-03</td>\n",
        "      <td> 0.153144</td>\n",
        "      <td> 0.101231</td>\n",
        "    </tr>\n",
        "    <tr>\n",
        "      <th>24 </th>\n",
        "      <td> 0.538462</td>\n",
        "      <td> 0.168298</td>\n",
        "      <td> 9.870470e-03</td>\n",
        "      <td> 0.146445</td>\n",
        "      <td> 0.108875</td>\n",
        "    </tr>\n",
        "    <tr>\n",
        "      <th>25 </th>\n",
        "      <td> 0.557692</td>\n",
        "      <td> 0.172058</td>\n",
        "      <td> 3.495029e-02</td>\n",
        "      <td> 0.139036</td>\n",
        "      <td> 0.118123</td>\n",
        "    </tr>\n",
        "    <tr>\n",
        "      <th>26 </th>\n",
        "      <td> 0.576923</td>\n",
        "      <td> 0.198100</td>\n",
        "      <td> 1.745909e-01</td>\n",
        "      <td> 0.150198</td>\n",
        "      <td> 0.143258</td>\n",
        "    </tr>\n",
        "    <tr>\n",
        "      <th>27 </th>\n",
        "      <td> 0.596154</td>\n",
        "      <td> 0.135467</td>\n",
        "      <td> 1.641957e-02</td>\n",
        "      <td> 0.089482</td>\n",
        "      <td> 0.107203</td>\n",
        "    </tr>\n",
        "    <tr>\n",
        "      <th>28 </th>\n",
        "      <td> 0.615385</td>\n",
        "      <td> 0.176039</td>\n",
        "      <td> 1.807973e-01</td>\n",
        "      <td> 0.100037</td>\n",
        "      <td> 0.155386</td>\n",
        "    </tr>\n",
        "    <tr>\n",
        "      <th>29 </th>\n",
        "      <td> 0.634615</td>\n",
        "      <td> 1.000000</td>\n",
        "      <td> 1.000000e+00</td>\n",
        "      <td> 0.681054</td>\n",
        "      <td> 0.821308</td>\n",
        "    </tr>\n",
        "    <tr>\n",
        "      <th>...</th>\n",
        "      <td>...</td>\n",
        "      <td>...</td>\n",
        "      <td>...</td>\n",
        "      <td>...</td>\n",
        "      <td>...</td>\n",
        "    </tr>\n",
        "    <tr>\n",
        "      <th>695</th>\n",
        "      <td> 0.442308</td>\n",
        "      <td> 0.260111</td>\n",
        "      <td> 6.387812e-01</td>\n",
        "      <td> 0.240165</td>\n",
        "      <td> 0.160788</td>\n",
        "    </tr>\n",
        "    <tr>\n",
        "      <th>696</th>\n",
        "      <td> 0.461538</td>\n",
        "      <td> 0.184857</td>\n",
        "      <td> 2.518027e-02</td>\n",
        "      <td> 0.166902</td>\n",
        "      <td> 0.116107</td>\n",
        "    </tr>\n",
        "    <tr>\n",
        "      <th>697</th>\n",
        "      <td> 0.480769</td>\n",
        "      <td> 0.301722</td>\n",
        "      <td> 9.052474e-01</td>\n",
        "      <td> 0.271581</td>\n",
        "      <td> 0.190936</td>\n",
        "    </tr>\n",
        "    <tr>\n",
        "      <th>698</th>\n",
        "      <td> 0.500000</td>\n",
        "      <td> 0.186643</td>\n",
        "      <td> 3.521262e-02</td>\n",
        "      <td> 0.166161</td>\n",
        "      <td> 0.118625</td>\n",
        "    </tr>\n",
        "    <tr>\n",
        "      <th>699</th>\n",
        "      <td> 0.519231</td>\n",
        "      <td> 0.316612</td>\n",
        "      <td> 9.437849e-01</td>\n",
        "      <td> 0.282324</td>\n",
        "      <td> 0.202092</td>\n",
        "    </tr>\n",
        "    <tr>\n",
        "      <th>700</th>\n",
        "      <td> 0.538462</td>\n",
        "      <td> 0.200952</td>\n",
        "      <td> 9.074494e-02</td>\n",
        "      <td> 0.179267</td>\n",
        "      <td> 0.127599</td>\n",
        "    </tr>\n",
        "    <tr>\n",
        "      <th>701</th>\n",
        "      <td> 0.557692</td>\n",
        "      <td> 0.307192</td>\n",
        "      <td> 9.208156e-01</td>\n",
        "      <td> 0.275126</td>\n",
        "      <td> 0.195276</td>\n",
        "    </tr>\n",
        "    <tr>\n",
        "      <th>702</th>\n",
        "      <td> 0.576923</td>\n",
        "      <td> 0.158313</td>\n",
        "      <td> 3.239833e-03</td>\n",
        "      <td> 0.137877</td>\n",
        "      <td> 0.102271</td>\n",
        "    </tr>\n",
        "    <tr>\n",
        "      <th>703</th>\n",
        "      <td> 0.596154</td>\n",
        "      <td> 0.246302</td>\n",
        "      <td> 5.000000e-01</td>\n",
        "      <td> 0.207467</td>\n",
        "      <td> 0.164447</td>\n",
        "    </tr>\n",
        "    <tr>\n",
        "      <th>704</th>\n",
        "      <td> 0.615385</td>\n",
        "      <td> 0.103610</td>\n",
        "      <td> 6.330558e-05</td>\n",
        "      <td> 0.076275</td>\n",
        "      <td> 0.075568</td>\n",
        "    </tr>\n",
        "    <tr>\n",
        "      <th>705</th>\n",
        "      <td> 0.634615</td>\n",
        "      <td> 0.291537</td>\n",
        "      <td> 7.557722e-01</td>\n",
        "      <td> 0.203863</td>\n",
        "      <td> 0.226501</td>\n",
        "    </tr>\n",
        "    <tr>\n",
        "      <th>706</th>\n",
        "      <td> 0.653846</td>\n",
        "      <td> 0.145103</td>\n",
        "      <td> 3.622713e-02</td>\n",
        "      <td> 0.093364</td>\n",
        "      <td> 0.117133</td>\n",
        "    </tr>\n",
        "    <tr>\n",
        "      <th>707</th>\n",
        "      <td> 0.673077</td>\n",
        "      <td> 0.307670</td>\n",
        "      <td> 7.911539e-01</td>\n",
        "      <td> 0.195481</td>\n",
        "      <td> 0.257344</td>\n",
        "    </tr>\n",
        "    <tr>\n",
        "      <th>708</th>\n",
        "      <td> 0.692308</td>\n",
        "      <td> 0.177896</td>\n",
        "      <td> 1.620043e-01</td>\n",
        "      <td> 0.109402</td>\n",
        "      <td> 0.149106</td>\n",
        "    </tr>\n",
        "    <tr>\n",
        "      <th>709</th>\n",
        "      <td> 0.711538</td>\n",
        "      <td> 0.311036</td>\n",
        "      <td> 7.974839e-01</td>\n",
        "      <td> 0.194098</td>\n",
        "      <td> 0.263726</td>\n",
        "    </tr>\n",
        "    <tr>\n",
        "      <th>710</th>\n",
        "      <td> 0.730769</td>\n",
        "      <td> 0.208120</td>\n",
        "      <td> 3.135513e-01</td>\n",
        "      <td> 0.130790</td>\n",
        "      <td> 0.172879</td>\n",
        "    </tr>\n",
        "    <tr>\n",
        "      <th>711</th>\n",
        "      <td> 0.750000</td>\n",
        "      <td> 0.253207</td>\n",
        "      <td> 5.660303e-01</td>\n",
        "      <td> 0.157663</td>\n",
        "      <td> 0.213294</td>\n",
        "    </tr>\n",
        "    <tr>\n",
        "      <th>712</th>\n",
        "      <td> 0.769231</td>\n",
        "      <td> 0.191859</td>\n",
        "      <td> 2.434251e-01</td>\n",
        "      <td> 0.114014</td>\n",
        "      <td> 0.165048</td>\n",
        "    </tr>\n",
        "    <tr>\n",
        "      <th>713</th>\n",
        "      <td> 0.788462</td>\n",
        "      <td> 0.208290</td>\n",
        "      <td> 3.505540e-01</td>\n",
        "      <td> 0.115450</td>\n",
        "      <td> 0.188312</td>\n",
        "    </tr>\n",
        "    <tr>\n",
        "      <th>714</th>\n",
        "      <td> 0.807692</td>\n",
        "      <td> 0.237270</td>\n",
        "      <td> 5.000000e-01</td>\n",
        "      <td> 0.128708</td>\n",
        "      <td> 0.218981</td>\n",
        "    </tr>\n",
        "    <tr>\n",
        "      <th>715</th>\n",
        "      <td> 0.826923</td>\n",
        "      <td> 0.254605</td>\n",
        "      <td> 5.774905e-01</td>\n",
        "      <td> 0.140769</td>\n",
        "      <td> 0.232865</td>\n",
        "    </tr>\n",
        "    <tr>\n",
        "      <th>716</th>\n",
        "      <td> 0.846154</td>\n",
        "      <td> 0.497362</td>\n",
        "      <td> 9.931409e-01</td>\n",
        "      <td> 0.321444</td>\n",
        "      <td> 0.417925</td>\n",
        "    </tr>\n",
        "    <tr>\n",
        "      <th>717</th>\n",
        "      <td> 0.865385</td>\n",
        "      <td> 0.410514</td>\n",
        "      <td> 9.908420e-01</td>\n",
        "      <td> 0.317802</td>\n",
        "      <td> 0.296538</td>\n",
        "    </tr>\n",
        "    <tr>\n",
        "      <th>718</th>\n",
        "      <td> 0.884615</td>\n",
        "      <td> 0.250674</td>\n",
        "      <td> 5.394045e-01</td>\n",
        "      <td> 0.206212</td>\n",
        "      <td> 0.170695</td>\n",
        "    </tr>\n",
        "    <tr>\n",
        "      <th>719</th>\n",
        "      <td> 0.903846</td>\n",
        "      <td> 0.306670</td>\n",
        "      <td> 8.863625e-01</td>\n",
        "      <td> 0.258741</td>\n",
        "      <td> 0.205120</td>\n",
        "    </tr>\n",
        "    <tr>\n",
        "      <th>720</th>\n",
        "      <td> 0.923077</td>\n",
        "      <td> 0.197801</td>\n",
        "      <td> 1.136375e-01</td>\n",
        "      <td> 0.166106</td>\n",
        "      <td> 0.131981</td>\n",
        "    </tr>\n",
        "    <tr>\n",
        "      <th>721</th>\n",
        "      <td> 0.942308</td>\n",
        "      <td> 0.297333</td>\n",
        "      <td> 8.485612e-01</td>\n",
        "      <td> 0.250100</td>\n",
        "      <td> 0.199295</td>\n",
        "    </tr>\n",
        "    <tr>\n",
        "      <th>722</th>\n",
        "      <td> 0.961538</td>\n",
        "      <td> 0.192334</td>\n",
        "      <td> 9.182859e-02</td>\n",
        "      <td> 0.159955</td>\n",
        "      <td> 0.129288</td>\n",
        "    </tr>\n",
        "    <tr>\n",
        "      <th>723</th>\n",
        "      <td> 0.980769</td>\n",
        "      <td> 0.255680</td>\n",
        "      <td> 5.795892e-01</td>\n",
        "      <td> 0.209078</td>\n",
        "      <td> 0.175011</td>\n",
        "    </tr>\n",
        "    <tr>\n",
        "      <th>724</th>\n",
        "      <td> 1.000000</td>\n",
        "      <td> 0.241159</td>\n",
        "      <td> 4.602054e-01</td>\n",
        "      <td> 0.197482</td>\n",
        "      <td> 0.164723</td>\n",
        "    </tr>\n",
        "  </tbody>\n",
        "</table>\n",
        "<p>725 rows \u00d7 5 columns</p>\n",
        "</div>"
       ],
       "metadata": {},
       "output_type": "pyout",
       "prompt_number": 131,
       "text": [
        "           SE       Rt2            p1       lwr       upr\n",
        "0    0.076923  0.254516  5.720892e-01  0.216534  0.168612\n",
        "1    0.096154  0.242552  4.639554e-01  0.206582  0.160434\n",
        "2    0.115385  0.314356  9.262041e-01  0.273707  0.204791\n",
        "3    0.134615  0.328653  9.735056e-01  0.298960  0.206252\n",
        "4    0.153846  0.318505  9.744497e-01  0.301228  0.193092\n",
        "5    0.173077  0.293940  9.283333e-01  0.285626  0.173856\n",
        "6    0.192308  0.350669  9.996378e-01  0.350575  0.202332\n",
        "7    0.211538  0.380523  9.999998e-01  0.394519  0.212371\n",
        "8    0.230769  0.381785  1.000000e+00  0.409188  0.206541\n",
        "9    0.250000  0.455202  1.000000e+00  0.502970  0.239279\n",
        "10   0.269231  0.267481  9.458262e-01  0.301051  0.138059\n",
        "11   0.288462  0.298461  9.999925e-01  0.337726  0.153273\n",
        "12   0.307692  0.221349  2.096852e-03  0.250790  0.113506\n",
        "13   0.326923  0.258675  8.170303e-01  0.292632  0.132857\n",
        "14   0.346154  0.191835  2.110918e-09  0.215861  0.099006\n",
        "15   0.365385  0.177828  3.338252e-11  0.197155  0.093066\n",
        "16   0.384615  0.196364  3.369060e-05  0.214312  0.104305\n",
        "17   0.403846  0.212564  8.198488e-03  0.229172  0.114221\n",
        "18   0.423077  0.212140  1.246800e-02  0.226203  0.115166\n",
        "19   0.442308  0.188020  2.086970e-04  0.196984  0.103704\n",
        "20   0.461538  0.193568  2.850668e-03  0.198186  0.109023\n",
        "21   0.480769  0.196327  1.059532e-02  0.196217  0.113000\n",
        "22   0.500000  0.192604  1.390507e-02  0.187184  0.113616\n",
        "23   0.519231  0.165066  1.367122e-03  0.153144  0.101231\n",
        "24   0.538462  0.168298  9.870470e-03  0.146445  0.108875\n",
        "25   0.557692  0.172058  3.495029e-02  0.139036  0.118123\n",
        "26   0.576923  0.198100  1.745909e-01  0.150198  0.143258\n",
        "27   0.596154  0.135467  1.641957e-02  0.089482  0.107203\n",
        "28   0.615385  0.176039  1.807973e-01  0.100037  0.155386\n",
        "29   0.634615  1.000000  1.000000e+00  0.681054  0.821308\n",
        "..        ...       ...           ...       ...       ...\n",
        "695  0.442308  0.260111  6.387812e-01  0.240165  0.160788\n",
        "696  0.461538  0.184857  2.518027e-02  0.166902  0.116107\n",
        "697  0.480769  0.301722  9.052474e-01  0.271581  0.190936\n",
        "698  0.500000  0.186643  3.521262e-02  0.166161  0.118625\n",
        "699  0.519231  0.316612  9.437849e-01  0.282324  0.202092\n",
        "700  0.538462  0.200952  9.074494e-02  0.179267  0.127599\n",
        "701  0.557692  0.307192  9.208156e-01  0.275126  0.195276\n",
        "702  0.576923  0.158313  3.239833e-03  0.137877  0.102271\n",
        "703  0.596154  0.246302  5.000000e-01  0.207467  0.164447\n",
        "704  0.615385  0.103610  6.330558e-05  0.076275  0.075568\n",
        "705  0.634615  0.291537  7.557722e-01  0.203863  0.226501\n",
        "706  0.653846  0.145103  3.622713e-02  0.093364  0.117133\n",
        "707  0.673077  0.307670  7.911539e-01  0.195481  0.257344\n",
        "708  0.692308  0.177896  1.620043e-01  0.109402  0.149106\n",
        "709  0.711538  0.311036  7.974839e-01  0.194098  0.263726\n",
        "710  0.730769  0.208120  3.135513e-01  0.130790  0.172879\n",
        "711  0.750000  0.253207  5.660303e-01  0.157663  0.213294\n",
        "712  0.769231  0.191859  2.434251e-01  0.114014  0.165048\n",
        "713  0.788462  0.208290  3.505540e-01  0.115450  0.188312\n",
        "714  0.807692  0.237270  5.000000e-01  0.128708  0.218981\n",
        "715  0.826923  0.254605  5.774905e-01  0.140769  0.232865\n",
        "716  0.846154  0.497362  9.931409e-01  0.321444  0.417925\n",
        "717  0.865385  0.410514  9.908420e-01  0.317802  0.296538\n",
        "718  0.884615  0.250674  5.394045e-01  0.206212  0.170695\n",
        "719  0.903846  0.306670  8.863625e-01  0.258741  0.205120\n",
        "720  0.923077  0.197801  1.136375e-01  0.166106  0.131981\n",
        "721  0.942308  0.297333  8.485612e-01  0.250100  0.199295\n",
        "722  0.961538  0.192334  9.182859e-02  0.159955  0.129288\n",
        "723  0.980769  0.255680  5.795892e-01  0.209078  0.175011\n",
        "724  1.000000  0.241159  4.602054e-01  0.197482  0.164723\n",
        "\n",
        "[725 rows x 5 columns]"
       ]
      }
     ],
     "prompt_number": 131
    },
    {
     "cell_type": "code",
     "collapsed": false,
     "input": [
      "alert = pd.Series(pd.qcut(target2,[0,.15,.4, .7, 1],labels=[0,1,2,3]))\n",
      "alert.describe()"
     ],
     "language": "python",
     "metadata": {},
     "outputs": [
      {
       "metadata": {},
       "output_type": "pyout",
       "prompt_number": 132,
       "text": [
        "count    724.000000\n",
        "mean       1.727901\n",
        "std        1.064579\n",
        "min        0.000000\n",
        "25%        1.000000\n",
        "50%        2.000000\n",
        "75%        3.000000\n",
        "max        3.000000\n",
        "dtype: float64"
       ]
      }
     ],
     "prompt_number": 132
    },
    {
     "cell_type": "code",
     "collapsed": false,
     "input": [],
     "language": "python",
     "metadata": {},
     "outputs": [],
     "prompt_number": 125
    },
    {
     "cell_type": "code",
     "collapsed": false,
     "input": [
      "data2.describe()"
     ],
     "language": "python",
     "metadata": {},
     "outputs": [
      {
       "html": [
        "<div style=\"max-height:1000px;max-width:1500px;overflow:auto;\">\n",
        "<table border=\"1\" class=\"dataframe\">\n",
        "  <thead>\n",
        "    <tr style=\"text-align: right;\">\n",
        "      <th></th>\n",
        "      <th>SE</th>\n",
        "      <th>Rt2</th>\n",
        "      <th>p1</th>\n",
        "      <th>lwr</th>\n",
        "      <th>upr</th>\n",
        "    </tr>\n",
        "  </thead>\n",
        "  <tbody>\n",
        "    <tr>\n",
        "      <th>count</th>\n",
        "      <td> 725.000000</td>\n",
        "      <td> 725.000000</td>\n",
        "      <td> 725.000000</td>\n",
        "      <td> 725.000000</td>\n",
        "      <td> 725.000000</td>\n",
        "    </tr>\n",
        "    <tr>\n",
        "      <th>mean</th>\n",
        "      <td>   0.511565</td>\n",
        "      <td>   0.254779</td>\n",
        "      <td>   0.502868</td>\n",
        "      <td>   0.223271</td>\n",
        "      <td>   0.177278</td>\n",
        "    </tr>\n",
        "    <tr>\n",
        "      <th>std</th>\n",
        "      <td>   0.287816</td>\n",
        "      <td>   0.089173</td>\n",
        "      <td>   0.380652</td>\n",
        "      <td>   0.106786</td>\n",
        "      <td>   0.088792</td>\n",
        "    </tr>\n",
        "    <tr>\n",
        "      <th>min</th>\n",
        "      <td>   0.019231</td>\n",
        "      <td>   0.026264</td>\n",
        "      <td>   0.000000</td>\n",
        "      <td>   0.000295</td>\n",
        "      <td>   0.020718</td>\n",
        "    </tr>\n",
        "    <tr>\n",
        "      <th>25%</th>\n",
        "      <td>   0.269231</td>\n",
        "      <td>   0.198335</td>\n",
        "      <td>   0.109375</td>\n",
        "      <td>   0.160807</td>\n",
        "      <td>   0.126508</td>\n",
        "    </tr>\n",
        "    <tr>\n",
        "      <th>50%</th>\n",
        "      <td>   0.519231</td>\n",
        "      <td>   0.243917</td>\n",
        "      <td>   0.500000</td>\n",
        "      <td>   0.210422</td>\n",
        "      <td>   0.160046</td>\n",
        "    </tr>\n",
        "    <tr>\n",
        "      <th>75%</th>\n",
        "      <td>   0.769231</td>\n",
        "      <td>   0.292012</td>\n",
        "      <td>   0.920816</td>\n",
        "      <td>   0.277376</td>\n",
        "      <td>   0.201187</td>\n",
        "    </tr>\n",
        "    <tr>\n",
        "      <th>max</th>\n",
        "      <td>   1.000000</td>\n",
        "      <td>   1.000000</td>\n",
        "      <td>   1.000000</td>\n",
        "      <td>   1.000000</td>\n",
        "      <td>   1.000000</td>\n",
        "    </tr>\n",
        "  </tbody>\n",
        "</table>\n",
        "</div>"
       ],
       "metadata": {},
       "output_type": "pyout",
       "prompt_number": 127,
       "text": [
        "               SE         Rt2          p1         lwr         upr\n",
        "count  725.000000  725.000000  725.000000  725.000000  725.000000\n",
        "mean     0.511565    0.254779    0.502868    0.223271    0.177278\n",
        "std      0.287816    0.089173    0.380652    0.106786    0.088792\n",
        "min      0.019231    0.026264    0.000000    0.000295    0.020718\n",
        "25%      0.269231    0.198335    0.109375    0.160807    0.126508\n",
        "50%      0.519231    0.243917    0.500000    0.210422    0.160046\n",
        "75%      0.769231    0.292012    0.920816    0.277376    0.201187\n",
        "max      1.000000    1.000000    1.000000    1.000000    1.000000"
       ]
      }
     ],
     "prompt_number": 127
    },
    {
     "cell_type": "code",
     "collapsed": false,
     "input": [
      "trainX, testX, trainY, testY = train_test_split(\n",
      "data2[1:], alert, test_size = 0.33)"
     ],
     "language": "python",
     "metadata": {},
     "outputs": [],
     "prompt_number": 133
    },
    {
     "cell_type": "code",
     "collapsed": false,
     "input": [
      "print trainX.shape\n",
      "print trainY.shape\n",
      "print testX.shape\n",
      "print testY.shape"
     ],
     "language": "python",
     "metadata": {},
     "outputs": [
      {
       "output_type": "stream",
       "stream": "stdout",
       "text": [
        "(485, 5)\n",
        "(485,)\n",
        "(239, 5)\n",
        "(239,)\n"
       ]
      }
     ],
     "prompt_number": 134
    },
    {
     "cell_type": "code",
     "collapsed": false,
     "input": [
      "dbn = DBN(\n",
      "[trainX.shape[1], 300, 4],\n",
      "learn_rates = 0.3,\n",
      "learn_rate_decays = 0.9,\n",
      "epochs = 30,\n",
      "verbose = 1)\n",
      "dbn.fit(trainX, trainY)"
     ],
     "language": "python",
     "metadata": {},
     "outputs": [
      {
       "output_type": "stream",
       "stream": "stderr",
       "text": [
        "14%\r"
       ]
      },
      {
       "output_type": "stream",
       "stream": "stderr",
       "text": [
        "28%\r"
       ]
      },
      {
       "output_type": "stream",
       "stream": "stderr",
       "text": [
        "42%\r"
       ]
      },
      {
       "output_type": "stream",
       "stream": "stderr",
       "text": [
        "57%\r"
       ]
      },
      {
       "output_type": "stream",
       "stream": "stderr",
       "text": [
        "71%\r"
       ]
      },
      {
       "output_type": "stream",
       "stream": "stderr",
       "text": [
        "85%\r"
       ]
      },
      {
       "output_type": "stream",
       "stream": "stderr",
       "text": [
        "100%\r"
       ]
      },
      {
       "output_type": "stream",
       "stream": "stderr",
       "text": [
        "100%\n"
       ]
      },
      {
       "output_type": "stream",
       "stream": "stderr",
       "text": [
        "14%\r"
       ]
      },
      {
       "output_type": "stream",
       "stream": "stderr",
       "text": [
        "28%\r"
       ]
      },
      {
       "output_type": "stream",
       "stream": "stderr",
       "text": [
        "42%\r"
       ]
      },
      {
       "output_type": "stream",
       "stream": "stderr",
       "text": [
        "57%\r"
       ]
      },
      {
       "output_type": "stream",
       "stream": "stderr",
       "text": [
        "71%\r"
       ]
      },
      {
       "output_type": "stream",
       "stream": "stderr",
       "text": [
        "85%\r"
       ]
      },
      {
       "output_type": "stream",
       "stream": "stderr",
       "text": [
        "100%\r"
       ]
      },
      {
       "output_type": "stream",
       "stream": "stderr",
       "text": [
        "100%\n"
       ]
      },
      {
       "output_type": "stream",
       "stream": "stdout",
       "text": [
        "[DBN] fitting X.shape=(485, 5)\n",
        "[DBN] layers [5, 300, 4]\n",
        "[DBN] Fine-tune...\n",
        "Epoch 1:\n",
        "  loss 1.34159728459\n",
        "  err  0.651785714286\n",
        "  (0:00:00)\n",
        "Epoch 2:"
       ]
      },
      {
       "output_type": "stream",
       "stream": "stderr",
       "text": [
        "14%\r"
       ]
      },
      {
       "output_type": "stream",
       "stream": "stderr",
       "text": [
        "28%\r"
       ]
      },
      {
       "output_type": "stream",
       "stream": "stderr",
       "text": [
        "42%\r"
       ]
      },
      {
       "output_type": "stream",
       "stream": "stderr",
       "text": [
        "57%\r"
       ]
      },
      {
       "output_type": "stream",
       "stream": "stderr",
       "text": [
        "71%\r"
       ]
      },
      {
       "output_type": "stream",
       "stream": "stderr",
       "text": [
        "85%\r"
       ]
      },
      {
       "output_type": "stream",
       "stream": "stderr",
       "text": [
        "100%\r"
       ]
      },
      {
       "output_type": "stream",
       "stream": "stderr",
       "text": [
        "100%\n"
       ]
      },
      {
       "output_type": "stream",
       "stream": "stderr",
       "text": [
        "14%\r"
       ]
      },
      {
       "output_type": "stream",
       "stream": "stderr",
       "text": [
        "28%\r"
       ]
      },
      {
       "output_type": "stream",
       "stream": "stderr",
       "text": [
        "42%\r"
       ]
      },
      {
       "output_type": "stream",
       "stream": "stderr",
       "text": [
        "57%\r"
       ]
      },
      {
       "output_type": "stream",
       "stream": "stderr",
       "text": [
        "71%\r"
       ]
      },
      {
       "output_type": "stream",
       "stream": "stderr",
       "text": [
        "85%\r"
       ]
      },
      {
       "output_type": "stream",
       "stream": "stderr",
       "text": [
        "100%\r"
       ]
      },
      {
       "output_type": "stream",
       "stream": "stderr",
       "text": [
        "100%\n"
       ]
      },
      {
       "output_type": "stream",
       "stream": "stdout",
       "text": [
        "\n",
        "  loss 1.30770243917\n",
        "  err  0.638392857143\n",
        "  (0:00:00)\n",
        "Epoch 3:\n",
        "  loss 1.18811658451\n",
        "  err  0.555803571429\n",
        "  (0:00:00)\n",
        "Epoch 4:"
       ]
      },
      {
       "output_type": "stream",
       "stream": "stderr",
       "text": [
        "14%\r"
       ]
      },
      {
       "output_type": "stream",
       "stream": "stderr",
       "text": [
        "28%\r"
       ]
      },
      {
       "output_type": "stream",
       "stream": "stderr",
       "text": [
        "42%\r"
       ]
      },
      {
       "output_type": "stream",
       "stream": "stderr",
       "text": [
        "57%\r"
       ]
      },
      {
       "output_type": "stream",
       "stream": "stderr",
       "text": [
        "71%\r"
       ]
      },
      {
       "output_type": "stream",
       "stream": "stderr",
       "text": [
        "85%\r"
       ]
      },
      {
       "output_type": "stream",
       "stream": "stderr",
       "text": [
        "100%\r"
       ]
      },
      {
       "output_type": "stream",
       "stream": "stderr",
       "text": [
        "100%\n"
       ]
      },
      {
       "output_type": "stream",
       "stream": "stderr",
       "text": [
        "14%\r"
       ]
      },
      {
       "output_type": "stream",
       "stream": "stderr",
       "text": [
        "28%\r"
       ]
      },
      {
       "output_type": "stream",
       "stream": "stderr",
       "text": [
        "42%\r"
       ]
      },
      {
       "output_type": "stream",
       "stream": "stderr",
       "text": [
        "57%\r"
       ]
      },
      {
       "output_type": "stream",
       "stream": "stderr",
       "text": [
        "71%\r"
       ]
      },
      {
       "output_type": "stream",
       "stream": "stderr",
       "text": [
        "85%\r"
       ]
      },
      {
       "output_type": "stream",
       "stream": "stderr",
       "text": [
        "100%\r"
       ]
      },
      {
       "output_type": "stream",
       "stream": "stderr",
       "text": [
        "100%\n"
       ]
      },
      {
       "output_type": "stream",
       "stream": "stderr",
       "text": [
        "14%\r"
       ]
      },
      {
       "output_type": "stream",
       "stream": "stderr",
       "text": [
        "28%\r"
       ]
      },
      {
       "output_type": "stream",
       "stream": "stderr",
       "text": [
        "42%\r"
       ]
      },
      {
       "output_type": "stream",
       "stream": "stderr",
       "text": [
        "57%\r"
       ]
      },
      {
       "output_type": "stream",
       "stream": "stderr",
       "text": [
        "71%\r"
       ]
      },
      {
       "output_type": "stream",
       "stream": "stderr",
       "text": [
        "85%\r"
       ]
      },
      {
       "output_type": "stream",
       "stream": "stderr",
       "text": [
        "100%\r"
       ]
      },
      {
       "output_type": "stream",
       "stream": "stderr",
       "text": [
        "100%\n"
       ]
      },
      {
       "output_type": "stream",
       "stream": "stdout",
       "text": [
        "\n",
        "  loss 1.18187352589\n",
        "  err  0.633928571429\n",
        "  (0:00:00)\n",
        "Epoch 5:\n",
        "  loss 1.12028661796\n",
        "  err  0.571428571429\n",
        "  (0:00:00)\n",
        "Epoch 6:\n",
        "  loss 1.05027105127\n",
        "  err  0.506696428571\n",
        "  (0:00:00)\n",
        "Epoch 7:"
       ]
      },
      {
       "output_type": "stream",
       "stream": "stderr",
       "text": [
        "14%\r"
       ]
      },
      {
       "output_type": "stream",
       "stream": "stderr",
       "text": [
        "28%\r"
       ]
      },
      {
       "output_type": "stream",
       "stream": "stderr",
       "text": [
        "42%\r"
       ]
      },
      {
       "output_type": "stream",
       "stream": "stderr",
       "text": [
        "57%\r"
       ]
      },
      {
       "output_type": "stream",
       "stream": "stderr",
       "text": [
        "71%\r"
       ]
      },
      {
       "output_type": "stream",
       "stream": "stderr",
       "text": [
        "85%\r"
       ]
      },
      {
       "output_type": "stream",
       "stream": "stderr",
       "text": [
        "100%\r"
       ]
      },
      {
       "output_type": "stream",
       "stream": "stderr",
       "text": [
        "100%\n"
       ]
      },
      {
       "output_type": "stream",
       "stream": "stderr",
       "text": [
        "14%\r"
       ]
      },
      {
       "output_type": "stream",
       "stream": "stderr",
       "text": [
        "28%\r"
       ]
      },
      {
       "output_type": "stream",
       "stream": "stderr",
       "text": [
        "42%\r"
       ]
      },
      {
       "output_type": "stream",
       "stream": "stderr",
       "text": [
        "57%\r"
       ]
      },
      {
       "output_type": "stream",
       "stream": "stderr",
       "text": [
        "71%\r"
       ]
      },
      {
       "output_type": "stream",
       "stream": "stderr",
       "text": [
        "85%\r"
       ]
      },
      {
       "output_type": "stream",
       "stream": "stderr",
       "text": [
        "100%\r"
       ]
      },
      {
       "output_type": "stream",
       "stream": "stderr",
       "text": [
        "100%\n"
       ]
      },
      {
       "output_type": "stream",
       "stream": "stdout",
       "text": [
        "\n",
        "  loss 0.939876403127\n",
        "  err  0.395089285714\n",
        "  (0:00:00)\n",
        "Epoch 8:\n",
        "  loss 0.941103041172\n",
        "  err  0.428571428571\n",
        "  (0:00:00)\n",
        "Epoch 9:"
       ]
      },
      {
       "output_type": "stream",
       "stream": "stderr",
       "text": [
        "14%\r"
       ]
      },
      {
       "output_type": "stream",
       "stream": "stderr",
       "text": [
        "28%\r"
       ]
      },
      {
       "output_type": "stream",
       "stream": "stderr",
       "text": [
        "42%\r"
       ]
      },
      {
       "output_type": "stream",
       "stream": "stderr",
       "text": [
        "57%\r"
       ]
      },
      {
       "output_type": "stream",
       "stream": "stderr",
       "text": [
        "71%\r"
       ]
      },
      {
       "output_type": "stream",
       "stream": "stderr",
       "text": [
        "85%\r"
       ]
      },
      {
       "output_type": "stream",
       "stream": "stderr",
       "text": [
        "100%\r"
       ]
      },
      {
       "output_type": "stream",
       "stream": "stderr",
       "text": [
        "100%\n"
       ]
      },
      {
       "output_type": "stream",
       "stream": "stderr",
       "text": [
        "14%\r"
       ]
      },
      {
       "output_type": "stream",
       "stream": "stderr",
       "text": [
        "28%\r"
       ]
      },
      {
       "output_type": "stream",
       "stream": "stderr",
       "text": [
        "42%\r"
       ]
      },
      {
       "output_type": "stream",
       "stream": "stderr",
       "text": [
        "57%\r"
       ]
      },
      {
       "output_type": "stream",
       "stream": "stderr",
       "text": [
        "71%\r"
       ]
      },
      {
       "output_type": "stream",
       "stream": "stderr",
       "text": [
        "85%\r"
       ]
      },
      {
       "output_type": "stream",
       "stream": "stderr",
       "text": [
        "100%\r"
       ]
      },
      {
       "output_type": "stream",
       "stream": "stderr",
       "text": [
        "100%\n"
       ]
      },
      {
       "output_type": "stream",
       "stream": "stderr",
       "text": [
        "14%\r"
       ]
      },
      {
       "output_type": "stream",
       "stream": "stderr",
       "text": [
        "28%\r"
       ]
      },
      {
       "output_type": "stream",
       "stream": "stderr",
       "text": [
        "42%\r"
       ]
      },
      {
       "output_type": "stream",
       "stream": "stderr",
       "text": [
        "57%\r"
       ]
      },
      {
       "output_type": "stream",
       "stream": "stderr",
       "text": [
        "71%\r"
       ]
      },
      {
       "output_type": "stream",
       "stream": "stderr",
       "text": [
        "85%\r"
       ]
      },
      {
       "output_type": "stream",
       "stream": "stderr",
       "text": [
        "100%\r"
       ]
      },
      {
       "output_type": "stream",
       "stream": "stderr",
       "text": [
        "100%\n"
       ]
      },
      {
       "output_type": "stream",
       "stream": "stdout",
       "text": [
        "\n",
        "  loss 0.872479396207\n",
        "  err  0.303571428571\n",
        "  (0:00:00)\n",
        "Epoch 10:\n",
        "  loss 0.812818314348\n",
        "  err  0.292410714286\n",
        "  (0:00:00)\n",
        "Epoch 11:\n",
        "  loss 0.782117026193\n",
        "  err  0.276785714286\n",
        "  (0:00:00)\n",
        "Epoch 12:"
       ]
      },
      {
       "output_type": "stream",
       "stream": "stderr",
       "text": [
        "14%\r"
       ]
      },
      {
       "output_type": "stream",
       "stream": "stderr",
       "text": [
        "28%\r"
       ]
      },
      {
       "output_type": "stream",
       "stream": "stderr",
       "text": [
        "42%\r"
       ]
      },
      {
       "output_type": "stream",
       "stream": "stderr",
       "text": [
        "57%\r"
       ]
      },
      {
       "output_type": "stream",
       "stream": "stderr",
       "text": [
        "71%\r"
       ]
      },
      {
       "output_type": "stream",
       "stream": "stderr",
       "text": [
        "85%\r"
       ]
      },
      {
       "output_type": "stream",
       "stream": "stderr",
       "text": [
        "100%\r"
       ]
      },
      {
       "output_type": "stream",
       "stream": "stderr",
       "text": [
        "100%\n"
       ]
      },
      {
       "output_type": "stream",
       "stream": "stderr",
       "text": [
        "14%\r"
       ]
      },
      {
       "output_type": "stream",
       "stream": "stderr",
       "text": [
        "28%\r"
       ]
      },
      {
       "output_type": "stream",
       "stream": "stderr",
       "text": [
        "42%\r"
       ]
      },
      {
       "output_type": "stream",
       "stream": "stderr",
       "text": [
        "57%\r"
       ]
      },
      {
       "output_type": "stream",
       "stream": "stderr",
       "text": [
        "71%\r"
       ]
      },
      {
       "output_type": "stream",
       "stream": "stderr",
       "text": [
        "85%\r"
       ]
      },
      {
       "output_type": "stream",
       "stream": "stderr",
       "text": [
        "100%\r"
       ]
      },
      {
       "output_type": "stream",
       "stream": "stderr",
       "text": [
        "100%\n"
       ]
      },
      {
       "output_type": "stream",
       "stream": "stderr",
       "text": [
        "14%\r"
       ]
      },
      {
       "output_type": "stream",
       "stream": "stderr",
       "text": [
        "28%\r"
       ]
      },
      {
       "output_type": "stream",
       "stream": "stderr",
       "text": [
        "42%\r"
       ]
      },
      {
       "output_type": "stream",
       "stream": "stderr",
       "text": [
        "57%\r"
       ]
      },
      {
       "output_type": "stream",
       "stream": "stderr",
       "text": [
        "71%\r"
       ]
      },
      {
       "output_type": "stream",
       "stream": "stderr",
       "text": [
        "85%\r"
       ]
      },
      {
       "output_type": "stream",
       "stream": "stderr",
       "text": [
        "100%\r"
       ]
      },
      {
       "output_type": "stream",
       "stream": "stderr",
       "text": [
        "100%\n"
       ]
      },
      {
       "output_type": "stream",
       "stream": "stdout",
       "text": [
        "\n",
        "  loss 0.727733322552\n",
        "  err  0.21875\n",
        "  (0:00:00)\n",
        "Epoch 13:\n",
        "  loss 0.700342570032\n",
        "  err  0.212053571429\n",
        "  (0:00:00)\n",
        "Epoch 14:\n",
        "  loss 0.698087947709\n",
        "  err  0.220982142857\n",
        "  (0:00:00)\n",
        "Epoch 15:"
       ]
      },
      {
       "output_type": "stream",
       "stream": "stderr",
       "text": [
        "14%\r"
       ]
      },
      {
       "output_type": "stream",
       "stream": "stderr",
       "text": [
        "28%\r"
       ]
      },
      {
       "output_type": "stream",
       "stream": "stderr",
       "text": [
        "42%\r"
       ]
      },
      {
       "output_type": "stream",
       "stream": "stderr",
       "text": [
        "57%\r"
       ]
      },
      {
       "output_type": "stream",
       "stream": "stderr",
       "text": [
        "71%\r"
       ]
      },
      {
       "output_type": "stream",
       "stream": "stderr",
       "text": [
        "85%\r"
       ]
      },
      {
       "output_type": "stream",
       "stream": "stderr",
       "text": [
        "100%\r"
       ]
      },
      {
       "output_type": "stream",
       "stream": "stderr",
       "text": [
        "100%\n"
       ]
      },
      {
       "output_type": "stream",
       "stream": "stderr",
       "text": [
        "14%\r"
       ]
      },
      {
       "output_type": "stream",
       "stream": "stderr",
       "text": [
        "28%\r"
       ]
      },
      {
       "output_type": "stream",
       "stream": "stderr",
       "text": [
        "42%\r"
       ]
      },
      {
       "output_type": "stream",
       "stream": "stderr",
       "text": [
        "57%\r"
       ]
      },
      {
       "output_type": "stream",
       "stream": "stderr",
       "text": [
        "71%\r"
       ]
      },
      {
       "output_type": "stream",
       "stream": "stderr",
       "text": [
        "85%\r"
       ]
      },
      {
       "output_type": "stream",
       "stream": "stderr",
       "text": [
        "100%\r"
       ]
      },
      {
       "output_type": "stream",
       "stream": "stderr",
       "text": [
        "100%\n"
       ]
      },
      {
       "output_type": "stream",
       "stream": "stderr",
       "text": [
        "14%\r"
       ]
      },
      {
       "output_type": "stream",
       "stream": "stderr",
       "text": [
        "28%\r"
       ]
      },
      {
       "output_type": "stream",
       "stream": "stderr",
       "text": [
        "42%\r"
       ]
      },
      {
       "output_type": "stream",
       "stream": "stderr",
       "text": [
        "57%\r"
       ]
      },
      {
       "output_type": "stream",
       "stream": "stderr",
       "text": [
        "71%\r"
       ]
      },
      {
       "output_type": "stream",
       "stream": "stderr",
       "text": [
        "85%\r"
       ]
      },
      {
       "output_type": "stream",
       "stream": "stderr",
       "text": [
        "100%\r"
       ]
      },
      {
       "output_type": "stream",
       "stream": "stderr",
       "text": [
        "100%\n"
       ]
      },
      {
       "output_type": "stream",
       "stream": "stdout",
       "text": [
        "\n",
        "  loss 0.652317421777\n",
        "  err  0.176339285714\n",
        "  (0:00:00)\n",
        "Epoch 16:\n",
        "  loss 0.618494280747\n",
        "  err  0.196428571429\n",
        "  (0:00:00)\n",
        "Epoch 17:\n",
        "  loss 0.629187456199\n",
        "  err  0.200892857143\n",
        "  (0:00:00)\n",
        "Epoch 18:"
       ]
      },
      {
       "output_type": "stream",
       "stream": "stderr",
       "text": [
        "14%\r"
       ]
      },
      {
       "output_type": "stream",
       "stream": "stderr",
       "text": [
        "28%\r"
       ]
      },
      {
       "output_type": "stream",
       "stream": "stderr",
       "text": [
        "42%\r"
       ]
      },
      {
       "output_type": "stream",
       "stream": "stderr",
       "text": [
        "57%\r"
       ]
      },
      {
       "output_type": "stream",
       "stream": "stderr",
       "text": [
        "71%\r"
       ]
      },
      {
       "output_type": "stream",
       "stream": "stderr",
       "text": [
        "85%\r"
       ]
      },
      {
       "output_type": "stream",
       "stream": "stderr",
       "text": [
        "100%\r"
       ]
      },
      {
       "output_type": "stream",
       "stream": "stderr",
       "text": [
        "100%\n"
       ]
      },
      {
       "output_type": "stream",
       "stream": "stderr",
       "text": [
        "14%\r"
       ]
      },
      {
       "output_type": "stream",
       "stream": "stderr",
       "text": [
        "28%\r"
       ]
      },
      {
       "output_type": "stream",
       "stream": "stderr",
       "text": [
        "42%\r"
       ]
      },
      {
       "output_type": "stream",
       "stream": "stderr",
       "text": [
        "57%\r"
       ]
      },
      {
       "output_type": "stream",
       "stream": "stderr",
       "text": [
        "71%\r"
       ]
      },
      {
       "output_type": "stream",
       "stream": "stderr",
       "text": [
        "85%\r"
       ]
      },
      {
       "output_type": "stream",
       "stream": "stderr",
       "text": [
        "100%\r"
       ]
      },
      {
       "output_type": "stream",
       "stream": "stderr",
       "text": [
        "100%\n"
       ]
      },
      {
       "output_type": "stream",
       "stream": "stderr",
       "text": [
        "14%\r"
       ]
      },
      {
       "output_type": "stream",
       "stream": "stderr",
       "text": [
        "28%\r"
       ]
      },
      {
       "output_type": "stream",
       "stream": "stderr",
       "text": [
        "42%\r"
       ]
      },
      {
       "output_type": "stream",
       "stream": "stderr",
       "text": [
        "57%\r"
       ]
      },
      {
       "output_type": "stream",
       "stream": "stderr",
       "text": [
        "71%\r"
       ]
      },
      {
       "output_type": "stream",
       "stream": "stderr",
       "text": [
        "85%\r"
       ]
      },
      {
       "output_type": "stream",
       "stream": "stderr",
       "text": [
        "100%\r"
       ]
      },
      {
       "output_type": "stream",
       "stream": "stderr",
       "text": [
        "100%\n"
       ]
      },
      {
       "output_type": "stream",
       "stream": "stdout",
       "text": [
        "\n",
        "  loss 0.60006828819\n",
        "  err  0.185267857143\n",
        "  (0:00:00)\n",
        "Epoch 19:\n",
        "  loss 0.615847911154\n",
        "  err  0.169642857143\n",
        "  (0:00:00)\n",
        "Epoch 20:\n",
        "  loss 0.589609495231\n",
        "  err  0.180803571429\n",
        "  (0:00:00)\n",
        "Epoch 21:"
       ]
      },
      {
       "output_type": "stream",
       "stream": "stderr",
       "text": [
        "14%\r"
       ]
      },
      {
       "output_type": "stream",
       "stream": "stderr",
       "text": [
        "28%\r"
       ]
      },
      {
       "output_type": "stream",
       "stream": "stderr",
       "text": [
        "42%\r"
       ]
      },
      {
       "output_type": "stream",
       "stream": "stderr",
       "text": [
        "57%\r"
       ]
      },
      {
       "output_type": "stream",
       "stream": "stderr",
       "text": [
        "71%\r"
       ]
      },
      {
       "output_type": "stream",
       "stream": "stderr",
       "text": [
        "85%\r"
       ]
      },
      {
       "output_type": "stream",
       "stream": "stderr",
       "text": [
        "100%\r"
       ]
      },
      {
       "output_type": "stream",
       "stream": "stderr",
       "text": [
        "100%\n"
       ]
      },
      {
       "output_type": "stream",
       "stream": "stderr",
       "text": [
        "14%\r"
       ]
      },
      {
       "output_type": "stream",
       "stream": "stderr",
       "text": [
        "28%\r"
       ]
      },
      {
       "output_type": "stream",
       "stream": "stderr",
       "text": [
        "42%\r"
       ]
      },
      {
       "output_type": "stream",
       "stream": "stderr",
       "text": [
        "57%\r"
       ]
      },
      {
       "output_type": "stream",
       "stream": "stderr",
       "text": [
        "71%\r"
       ]
      },
      {
       "output_type": "stream",
       "stream": "stderr",
       "text": [
        "85%\r"
       ]
      },
      {
       "output_type": "stream",
       "stream": "stderr",
       "text": [
        "100%\r"
       ]
      },
      {
       "output_type": "stream",
       "stream": "stderr",
       "text": [
        "100%\n"
       ]
      },
      {
       "output_type": "stream",
       "stream": "stderr",
       "text": [
        "14%\r"
       ]
      },
      {
       "output_type": "stream",
       "stream": "stderr",
       "text": [
        "28%\r"
       ]
      },
      {
       "output_type": "stream",
       "stream": "stderr",
       "text": [
        "42%\r"
       ]
      },
      {
       "output_type": "stream",
       "stream": "stderr",
       "text": [
        "57%\r"
       ]
      },
      {
       "output_type": "stream",
       "stream": "stderr",
       "text": [
        "71%\r"
       ]
      },
      {
       "output_type": "stream",
       "stream": "stderr",
       "text": [
        "85%\r"
       ]
      },
      {
       "output_type": "stream",
       "stream": "stderr",
       "text": [
        "100%\r"
       ]
      },
      {
       "output_type": "stream",
       "stream": "stderr",
       "text": [
        "100%\n"
       ]
      },
      {
       "output_type": "stream",
       "stream": "stdout",
       "text": [
        "\n",
        "  loss 0.609283140727\n",
        "  err  0.216517857143\n",
        "  (0:00:00)\n",
        "Epoch 22:\n",
        "  loss 0.576491321836\n",
        "  err  0.171875\n",
        "  (0:00:00)\n",
        "Epoch 23:\n",
        "  loss 0.563324689865\n",
        "  err  0.158482142857\n",
        "  (0:00:00)\n",
        "Epoch 24:"
       ]
      },
      {
       "output_type": "stream",
       "stream": "stderr",
       "text": [
        "14%\r"
       ]
      },
      {
       "output_type": "stream",
       "stream": "stderr",
       "text": [
        "28%\r"
       ]
      },
      {
       "output_type": "stream",
       "stream": "stderr",
       "text": [
        "42%\r"
       ]
      },
      {
       "output_type": "stream",
       "stream": "stderr",
       "text": [
        "57%\r"
       ]
      },
      {
       "output_type": "stream",
       "stream": "stderr",
       "text": [
        "71%\r"
       ]
      },
      {
       "output_type": "stream",
       "stream": "stderr",
       "text": [
        "85%\r"
       ]
      },
      {
       "output_type": "stream",
       "stream": "stderr",
       "text": [
        "100%\r"
       ]
      },
      {
       "output_type": "stream",
       "stream": "stderr",
       "text": [
        "100%\n"
       ]
      },
      {
       "output_type": "stream",
       "stream": "stderr",
       "text": [
        "14%\r"
       ]
      },
      {
       "output_type": "stream",
       "stream": "stderr",
       "text": [
        "28%\r"
       ]
      },
      {
       "output_type": "stream",
       "stream": "stderr",
       "text": [
        "42%\r"
       ]
      },
      {
       "output_type": "stream",
       "stream": "stderr",
       "text": [
        "57%\r"
       ]
      },
      {
       "output_type": "stream",
       "stream": "stderr",
       "text": [
        "71%\r"
       ]
      },
      {
       "output_type": "stream",
       "stream": "stderr",
       "text": [
        "85%\r"
       ]
      },
      {
       "output_type": "stream",
       "stream": "stderr",
       "text": [
        "100%\r"
       ]
      },
      {
       "output_type": "stream",
       "stream": "stderr",
       "text": [
        "100%\n"
       ]
      },
      {
       "output_type": "stream",
       "stream": "stderr",
       "text": [
        "14%\r"
       ]
      },
      {
       "output_type": "stream",
       "stream": "stderr",
       "text": [
        "28%\r"
       ]
      },
      {
       "output_type": "stream",
       "stream": "stderr",
       "text": [
        "42%\r"
       ]
      },
      {
       "output_type": "stream",
       "stream": "stderr",
       "text": [
        "57%\r"
       ]
      },
      {
       "output_type": "stream",
       "stream": "stderr",
       "text": [
        "71%\r"
       ]
      },
      {
       "output_type": "stream",
       "stream": "stderr",
       "text": [
        "85%\r"
       ]
      },
      {
       "output_type": "stream",
       "stream": "stderr",
       "text": [
        "100%\r"
       ]
      },
      {
       "output_type": "stream",
       "stream": "stderr",
       "text": [
        "100%\n"
       ]
      },
      {
       "output_type": "stream",
       "stream": "stdout",
       "text": [
        "\n",
        "  loss 0.574059086187\n",
        "  err  0.178571428571\n",
        "  (0:00:00)\n",
        "Epoch 25:\n",
        "  loss 0.554121800831\n",
        "  err  0.140625\n",
        "  (0:00:00)\n",
        "Epoch 26:\n",
        "  loss 0.558023205825\n",
        "  err  0.142857142857\n",
        "  (0:00:00)\n",
        "Epoch 27:"
       ]
      },
      {
       "output_type": "stream",
       "stream": "stderr",
       "text": [
        "14%\r"
       ]
      },
      {
       "output_type": "stream",
       "stream": "stderr",
       "text": [
        "28%\r"
       ]
      },
      {
       "output_type": "stream",
       "stream": "stderr",
       "text": [
        "42%\r"
       ]
      },
      {
       "output_type": "stream",
       "stream": "stderr",
       "text": [
        "57%\r"
       ]
      },
      {
       "output_type": "stream",
       "stream": "stderr",
       "text": [
        "71%\r"
       ]
      },
      {
       "output_type": "stream",
       "stream": "stderr",
       "text": [
        "85%\r"
       ]
      },
      {
       "output_type": "stream",
       "stream": "stderr",
       "text": [
        "100%\r"
       ]
      },
      {
       "output_type": "stream",
       "stream": "stderr",
       "text": [
        "100%\n"
       ]
      },
      {
       "output_type": "stream",
       "stream": "stderr",
       "text": [
        "14%\r"
       ]
      },
      {
       "output_type": "stream",
       "stream": "stderr",
       "text": [
        "28%\r"
       ]
      },
      {
       "output_type": "stream",
       "stream": "stderr",
       "text": [
        "42%\r"
       ]
      },
      {
       "output_type": "stream",
       "stream": "stderr",
       "text": [
        "57%\r"
       ]
      },
      {
       "output_type": "stream",
       "stream": "stderr",
       "text": [
        "71%\r"
       ]
      },
      {
       "output_type": "stream",
       "stream": "stderr",
       "text": [
        "85%\r"
       ]
      },
      {
       "output_type": "stream",
       "stream": "stderr",
       "text": [
        "100%\r"
       ]
      },
      {
       "output_type": "stream",
       "stream": "stderr",
       "text": [
        "100%\n"
       ]
      },
      {
       "output_type": "stream",
       "stream": "stderr",
       "text": [
        "14%\r"
       ]
      },
      {
       "output_type": "stream",
       "stream": "stderr",
       "text": [
        "28%\r"
       ]
      },
      {
       "output_type": "stream",
       "stream": "stderr",
       "text": [
        "42%\r"
       ]
      },
      {
       "output_type": "stream",
       "stream": "stderr",
       "text": [
        "57%\r"
       ]
      },
      {
       "output_type": "stream",
       "stream": "stderr",
       "text": [
        "71%\r"
       ]
      },
      {
       "output_type": "stream",
       "stream": "stderr",
       "text": [
        "85%\r"
       ]
      },
      {
       "output_type": "stream",
       "stream": "stderr",
       "text": [
        "100%\r"
       ]
      },
      {
       "output_type": "stream",
       "stream": "stderr",
       "text": [
        "100%\n"
       ]
      },
      {
       "output_type": "stream",
       "stream": "stdout",
       "text": [
        "\n",
        "  loss 0.539547720126\n",
        "  err  0.158482142857\n",
        "  (0:00:00)\n",
        "Epoch 28:\n",
        "  loss 0.548104201044\n",
        "  err  0.176339285714\n",
        "  (0:00:00)\n",
        "Epoch 29:\n",
        "  loss 0.564907951014\n",
        "  err  0.191964285714\n",
        "  (0:00:00)\n",
        "Epoch 30:"
       ]
      },
      {
       "output_type": "stream",
       "stream": "stdout",
       "text": [
        "\n",
        "  loss 0.556986033916\n",
        "  err  0.167410714286\n",
        "  (0:00:00)\n"
       ]
      }
     ],
     "prompt_number": 135
    },
    {
     "cell_type": "code",
     "collapsed": false,
     "input": [
      "preds = dbn.predict(testX)\n",
      "print classification_report(testY, preds)"
     ],
     "language": "python",
     "metadata": {},
     "outputs": [
      {
       "output_type": "stream",
       "stream": "stdout",
       "text": [
        "             precision    recall  f1-score   support\n",
        "\n",
        "          0       0.95      0.71      0.81        51\n",
        "          1       0.72      0.69      0.71        61\n",
        "          2       0.62      0.84      0.72        64\n",
        "          3       0.86      0.76      0.81        63\n",
        "\n",
        "avg / total       0.78      0.75      0.76       239\n",
        "\n"
       ]
      }
     ],
     "prompt_number": 136
    },
    {
     "cell_type": "code",
     "collapsed": false,
     "input": [
      "def plot_predictions(target, classif):\n",
      "    c = ['g','y','b','r']\n",
      "    for i in range(len(target)-1):\n",
      "        l = classif.predict(np.atleast_2d(data2.ix[i]))[0]\n",
      "        plot(i,target[i+1], '{}o'.format(c[l]))\n",
      "        "
     ],
     "language": "python",
     "metadata": {},
     "outputs": [],
     "prompt_number": 139
    },
    {
     "cell_type": "code",
     "collapsed": false,
     "input": [
      "plot_predictions(target, dbn)"
     ],
     "language": "python",
     "metadata": {},
     "outputs": [
      {
       "metadata": {},
       "output_type": "display_data",
       "png": "[encoded data removed]",
       "text": [
        "<matplotlib.figure.Figure at 0x7f2d77a13890>"
       ]
      }
     ],
     "prompt_number": 140
    },
    {
     "cell_type": "markdown",
     "metadata": {},
     "source": [
      "##Nearest Neighbor Classification"
     ]
    },
    {
     "cell_type": "code",
     "collapsed": false,
     "input": [
      "from sklearn import neighbors"
     ],
     "language": "python",
     "metadata": {},
     "outputs": [],
     "prompt_number": 141
    },
    {
     "cell_type": "code",
     "collapsed": false,
     "input": [
      "n_neighbors=15\n",
      "nnclf = neighbors.KNeighborsClassifier(n_neighbors, weights='distance')\n",
      "nnclf.fit(trainX, trainY)"
     ],
     "language": "python",
     "metadata": {},
     "outputs": [
      {
       "metadata": {},
       "output_type": "pyout",
       "prompt_number": 145,
       "text": [
        "KNeighborsClassifier(algorithm='auto', leaf_size=30, metric='minkowski',\n",
        "           n_neighbors=15, p=2, weights='distance')"
       ]
      }
     ],
     "prompt_number": 145
    },
    {
     "cell_type": "code",
     "collapsed": false,
     "input": [
      "preds = nnclf.predict(testX)\n",
      "print classification_report(testY, preds)"
     ],
     "language": "python",
     "metadata": {},
     "outputs": [
      {
       "output_type": "stream",
       "stream": "stdout",
       "text": [
        "             precision    recall  f1-score   support\n",
        "\n",
        "          0       0.82      0.55      0.66        51\n",
        "          1       0.52      0.62      0.57        61\n",
        "          2       0.56      0.58      0.57        64\n",
        "          3       0.73      0.76      0.74        63\n",
        "\n",
        "avg / total       0.65      0.63      0.63       239\n",
        "\n"
       ]
      }
     ],
     "prompt_number": 146
    },
    {
     "cell_type": "markdown",
     "metadata": {},
     "source": [
      "##Support Vector Machines"
     ]
    },
    {
     "cell_type": "code",
     "collapsed": false,
     "input": [
      "from sklearn import svm"
     ],
     "language": "python",
     "metadata": {},
     "outputs": [],
     "prompt_number": 148
    },
    {
     "cell_type": "code",
     "collapsed": false,
     "input": [
      "svmclf = svm.SVC()\n",
      "svmclf.fit(trainX, trainY)"
     ],
     "language": "python",
     "metadata": {},
     "outputs": [
      {
       "metadata": {},
       "output_type": "pyout",
       "prompt_number": 149,
       "text": [
        "SVC(C=1.0, cache_size=200, class_weight=None, coef0=0.0, degree=3, gamma=0.0,\n",
        "  kernel='rbf', max_iter=-1, probability=False, random_state=None,\n",
        "  shrinking=True, tol=0.001, verbose=False)"
       ]
      }
     ],
     "prompt_number": 149
    },
    {
     "cell_type": "code",
     "collapsed": false,
     "input": [
      "preds = svmclf.predict(testX)\n",
      "print classification_report(testY, preds)"
     ],
     "language": "python",
     "metadata": {},
     "outputs": [
      {
       "output_type": "stream",
       "stream": "stdout",
       "text": [
        "             precision    recall  f1-score   support\n",
        "\n",
        "          0       1.00      0.20      0.33        51\n",
        "          1       0.00      0.00      0.00        61\n",
        "          2       0.25      0.67      0.36        64\n",
        "          3       0.49      0.41      0.45        63\n",
        "\n",
        "avg / total       0.41      0.33      0.28       239\n",
        "\n"
       ]
      }
     ],
     "prompt_number": 150
    },
    {
     "cell_type": "code",
     "collapsed": false,
     "input": [],
     "language": "python",
     "metadata": {},
     "outputs": []
    }
   ],
   "metadata": {}
  }
 ]
}